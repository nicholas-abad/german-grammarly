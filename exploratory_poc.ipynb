{
 "cells": [
  {
   "cell_type": "code",
   "execution_count": 17,
   "metadata": {},
   "outputs": [],
   "source": [
    "from transformers import pipeline"
   ]
  },
  {
   "cell_type": "code",
   "execution_count": 188,
   "metadata": {},
   "outputs": [
    {
     "name": "stderr",
     "output_type": "stream",
     "text": [
      "Some weights of the model checkpoint at bert-base-german-cased were not used when initializing BertForMaskedLM: ['cls.seq_relationship.weight', 'cls.seq_relationship.bias']\n",
      "- This IS expected if you are initializing BertForMaskedLM from the checkpoint of a model trained on another task or with another architecture (e.g. initializing a BertForSequenceClassification model from a BertForPretraining model).\n",
      "- This IS NOT expected if you are initializing BertForMaskedLM from the checkpoint of a model that you expect to be exactly identical (initializing a BertForSequenceClassification model from a BertForSequenceClassification model).\n",
      "Some weights of BertForMaskedLM were not initialized from the model checkpoint at bert-base-german-cased and are newly initialized: ['cls.predictions.decoder.bias']\n",
      "You should probably TRAIN this model on a down-stream task to be able to use it for predictions and inference.\n"
     ]
    }
   ],
   "source": [
    "unmasker = pipeline('fill-mask', model=\"bert-base-german-cased\")\n",
    "# unmasker = pipeline('fill-mask', model=\"distilbert-base-german-cased\")"
   ]
  },
  {
   "cell_type": "code",
   "execution_count": 189,
   "metadata": {},
   "outputs": [
    {
     "data": {
      "text/plain": [
       "[{'sequence': '[CLS] Ich habe einen Hund [SEP]',\n",
       "  'score': 0.554667592048645,\n",
       "  'token': 303,\n",
       "  'token_str': 'einen'},\n",
       " {'sequence': '[CLS] Ich habe keinen Hund [SEP]',\n",
       "  'score': 0.32294565439224243,\n",
       "  'token': 1875,\n",
       "  'token_str': 'keinen'},\n",
       " {'sequence': '[CLS] Ich habe meinen Hund [SEP]',\n",
       "  'score': 0.04057816043496132,\n",
       "  'token': 9685,\n",
       "  'token_str': 'meinen'},\n",
       " {'sequence': '[CLS] Ich habe den Hund [SEP]',\n",
       "  'score': 0.019943149760365486,\n",
       "  'token': 86,\n",
       "  'token_str': 'den'},\n",
       " {'sequence': '[CLS] Ich habe diesen Hund [SEP]',\n",
       "  'score': 0.008157292380928993,\n",
       "  'token': 1377,\n",
       "  'token_str': 'diesen'}]"
      ]
     },
     "execution_count": 189,
     "metadata": {},
     "output_type": "execute_result"
    }
   ],
   "source": [
    "unmasker(\"Ich habe [MASK] Hund\")"
   ]
  },
  {
   "cell_type": "code",
   "execution_count": 190,
   "metadata": {},
   "outputs": [],
   "source": [
    "def sentence_correction(sentence: str):\n",
    "    print(f'Original Sentence: {sentence} \\n')\n",
    "    delimeter = \" \"\n",
    "    sentence = sentence.split(delimeter)\n",
    "\n",
    "    for idx, original_word in enumerate(sentence):\n",
    "        masked_sentence_list = sentence.copy()\n",
    "        masked_sentence_list[idx] = \"[MASK]\"\n",
    "        masked_sentence = delimeter.join(masked_sentence_list)\n",
    "        print(f'  Masked Sentence: {masked_sentence}')\n",
    "        _get_masked_sentence_results(masked_sentence, original_word)\n",
    "        \n",
    "        \n",
    "        print('---------')"
   ]
  },
  {
   "cell_type": "code",
   "execution_count": 191,
   "metadata": {},
   "outputs": [],
   "source": [
    "def _get_masked_sentence_results(masked_sentence, original_word, max_difference=0.3):\n",
    "    \n",
    "    unmasked_list = unmasker(masked_sentence) \n",
    "    \n",
    "    true_score = 0\n",
    "    better_word_replacements = []\n",
    "    better_word_replacement_scores = []\n",
    "    for potential_replacement in unmasked_list:\n",
    "        # unmasked_sentence is in sorted order from highest score to lowest score.\n",
    "        if potential_replacement['token_str'] == original_word:\n",
    "            true_score = float(potential_replacement['score'])\n",
    "            break\n",
    "    \n",
    "    sentence_and_score_list = [(word['token_str'], word['score'], word['sequence']) for word in unmasked_list if word['score'] - true_score > max_difference]\n",
    "    print(f\"    Score for original word {original_word.upper()} is {true_score}\")\n",
    "    for idx in range(len(sentence_and_score_list)):\n",
    "        print(f\"      Recommended word/score/sentence: {sentence_and_score_list[idx]}\")\n",
    "    \n",
    "    \n",
    "    \n",
    "    "
   ]
  },
  {
   "cell_type": "code",
   "execution_count": 199,
   "metadata": {},
   "outputs": [
    {
     "name": "stdout",
     "output_type": "stream",
     "text": [
      "Original Sentence: Ich denke, dass Nick perfekt Deutsch sprechen kann \n",
      "\n",
      "  Masked Sentence: [MASK] denke, dass Nick perfekt Deutsch sprechen kann\n",
      "    Score for original word ICH is 0.998205304145813\n",
      "---------\n",
      "  Masked Sentence: Ich [MASK] dass Nick perfekt Deutsch sprechen kann\n",
      "    Score for original word DENKE, is 0\n",
      "      Recommended word/score/sentence: ('hoffe', 0.670002281665802, '[CLS] Ich hoffe dass Nick perfekt Deutsch sprechen kann [SEP]')\n",
      "---------\n",
      "  Masked Sentence: Ich denke, [MASK] Nick perfekt Deutsch sprechen kann\n",
      "    Score for original word DASS is 0.9511033892631531\n",
      "---------\n",
      "  Masked Sentence: Ich denke, dass [MASK] perfekt Deutsch sprechen kann\n",
      "    Score for original word NICK is 0\n",
      "      Recommended word/score/sentence: ('ich', 0.6851903796195984, '[CLS] Ich denke, dass ich perfekt Deutsch sprechen kann [SEP]')\n",
      "---------\n",
      "  Masked Sentence: Ich denke, dass Nick [MASK] Deutsch sprechen kann\n",
      "    Score for original word PERFEKT is 0.039176106452941895\n",
      "      Recommended word/score/sentence: ('gut', 0.5388423204421997, '[CLS] Ich denke, dass Nick gut Deutsch sprechen kann [SEP]')\n",
      "---------\n",
      "  Masked Sentence: Ich denke, dass Nick perfekt [MASK] sprechen kann\n",
      "    Score for original word DEUTSCH is 0.3165245056152344\n",
      "---------\n",
      "  Masked Sentence: Ich denke, dass Nick perfekt Deutsch [MASK] kann\n",
      "    Score for original word SPRECHEN is 0.8238191604614258\n",
      "---------\n",
      "  Masked Sentence: Ich denke, dass Nick perfekt Deutsch sprechen [MASK]\n",
      "    Score for original word KANN is 0.26404231786727905\n",
      "---------\n"
     ]
    }
   ],
   "source": [
    "sentence_correction(\"Ich denke, dass Nick perfekt Deutsch sprechen kann\")"
   ]
  }
 ],
 "metadata": {
  "kernelspec": {
   "display_name": "Python 3",
   "language": "python",
   "name": "python3"
  },
  "language_info": {
   "codemirror_mode": {
    "name": "ipython",
    "version": 3
   },
   "file_extension": ".py",
   "mimetype": "text/x-python",
   "name": "python",
   "nbconvert_exporter": "python",
   "pygments_lexer": "ipython3",
   "version": "3.7.9"
  }
 },
 "nbformat": 4,
 "nbformat_minor": 4
}
